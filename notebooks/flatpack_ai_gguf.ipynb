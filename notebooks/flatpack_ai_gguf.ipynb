{
  "nbformat": 4,
  "nbformat_minor": 0,
  "metadata": {
    "colab": {
      "provenance": [],
      "machine_shape": "hm",
      "gpuType": "T4",
      "authorship_tag": "ABX9TyN4Rj6HYvBqPtMVkV2uuDn4",
      "include_colab_link": true
    },
    "kernelspec": {
      "name": "python3",
      "display_name": "Python 3"
    },
    "language_info": {
      "name": "python"
    },
    "accelerator": "GPU"
  },
  "cells": [
    {
      "cell_type": "markdown",
      "metadata": {
        "id": "view-in-github",
        "colab_type": "text"
      },
      "source": [
        "<a href=\"https://colab.research.google.com/github/romlingroup/flatpack-ai/blob/main/notebooks/flatpack_ai_gguf.ipynb\" target=\"_parent\"><img src=\"https://colab.research.google.com/assets/colab-badge.svg\" alt=\"Open In Colab\"/></a>"
      ]
    },
    {
      "cell_type": "markdown",
      "source": [
        "# flatpack.ai - GGUF\n",
        "https://github.com/ggerganov/llama.cpp"
      ],
      "metadata": {
        "id": "Xf_SKCKjR101"
      }
    },
    {
      "cell_type": "code",
      "source": [
        "!pip install huggingface_hub"
      ],
      "metadata": {
        "id": "gkK1TxHzOKE8"
      },
      "execution_count": null,
      "outputs": []
    },
    {
      "cell_type": "code",
      "source": [
        "from huggingface_hub import snapshot_download\n",
        "\n",
        "model_id=\"mistralai/Mistral-7B-Instruct-v0.1\"\n",
        "snapshot_download(repo_id=model_id, local_dir=\"Mistral-7B-Instruct-v0.1\",\n",
        "                  local_dir_use_symlinks=False, revision=\"main\")"
      ],
      "metadata": {
        "id": "xy0vn8wdO1Sy"
      },
      "execution_count": null,
      "outputs": []
    },
    {
      "cell_type": "code",
      "execution_count": null,
      "metadata": {
        "id": "W3G4GjXpRtO0"
      },
      "outputs": [],
      "source": [
        "!git clone https://github.com/ggerganov/llama.cpp"
      ]
    },
    {
      "cell_type": "code",
      "source": [
        "!pip install -r llama.cpp/requirements.txt"
      ],
      "metadata": {
        "id": "LFfIxSMNOS9c"
      },
      "execution_count": null,
      "outputs": []
    },
    {
      "cell_type": "code",
      "source": [
        "!python llama.cpp/convert.py Mistral-7B-Instruct-v0.1 \\\n",
        "  --outfile Mistral-7B-Instruct-v0.1.gguf \\\n",
        "  --outtype q8_0"
      ],
      "metadata": {
        "id": "UXVNW1ZdOcQA"
      },
      "execution_count": null,
      "outputs": []
    },
    {
      "cell_type": "markdown",
      "source": [
        "https://huggingface.co/settings/tokens"
      ],
      "metadata": {
        "id": "PTMWC117TpB8"
      }
    },
    {
      "cell_type": "code",
      "source": [
        "!huggingface-cli login"
      ],
      "metadata": {
        "id": "9Ca7Slh4Qhle"
      },
      "execution_count": null,
      "outputs": []
    },
    {
      "cell_type": "code",
      "source": [
        "from huggingface_hub import HfApi\n",
        "api = HfApi()\n",
        "\n",
        "model_id = \"romlingroup/Mistral-7B-Instruct-v0.1.gguf\"\n",
        "api.create_repo(model_id, exist_ok=True, repo_type=\"model\")\n",
        "api.upload_file(\n",
        "    repo_id=model_id,\n",
        "    path_or_fileobj=\"Mistral-7B-Instruct-v0.1.gguf\",\n",
        "    path_in_repo=\"Mistral-7B-Instruct-v0.1.gguf\"\n",
        ")"
      ],
      "metadata": {
        "id": "NJq0AP7QT2Xi"
      },
      "execution_count": null,
      "outputs": []
    }
  ]
}