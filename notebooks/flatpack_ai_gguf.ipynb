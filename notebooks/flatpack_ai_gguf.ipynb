{
  "nbformat": 4,
  "nbformat_minor": 0,
  "metadata": {
    "colab": {
      "provenance": [],
      "include_colab_link": true
    },
    "kernelspec": {
      "name": "python3",
      "display_name": "Python 3"
    },
    "language_info": {
      "name": "python"
    }
  },
  "cells": [
    {
      "cell_type": "markdown",
      "metadata": {
        "id": "view-in-github",
        "colab_type": "text"
      },
      "source": [
        "<a href=\"https://colab.research.google.com/github/romlingroup/flatpack-ai/blob/main/notebooks/flatpack_ai_gguf.ipynb\" target=\"_parent\"><img src=\"https://colab.research.google.com/assets/colab-badge.svg\" alt=\"Open In Colab\"/></a>"
      ]
    },
    {
      "cell_type": "markdown",
      "source": [
        "# flatpack.ai - GGUF\n",
        "https://github.com/ggerganov/llama.cpp"
      ],
      "metadata": {
        "id": "Xf_SKCKjR101"
      }
    },
    {
      "cell_type": "code",
      "source": [
        "!pip install huggingface_hub"
      ],
      "metadata": {
        "id": "gkK1TxHzOKE8"
      },
      "execution_count": null,
      "outputs": []
    },
    {
      "cell_type": "code",
      "source": [
        "from huggingface_hub import snapshot_download\n",
        "\n",
        "model_id=\"amazon/MistralLite\"\n",
        "snapshot_download(repo_id=model_id, local_dir=\"mistrallite\", local_dir_use_symlinks=False, revision=\"main\")"
      ],
      "metadata": {
        "id": "xy0vn8wdO1Sy"
      },
      "execution_count": null,
      "outputs": []
    },
    {
      "cell_type": "code",
      "source": [
        "# Required for https://huggingface.co/amazon/MistralLite\n",
        "import json\n",
        "import os\n",
        "\n",
        "tokens_data = {\n",
        "  \"<unk>\": 0,\n",
        "  \"<s>\": 1,\n",
        "  \"</s>\": 2,\n",
        "  \"[PAD]\": 32000,\n",
        "  \"<|assistant|>\": 32001,\n",
        "  \"<|prompter|>\": 32002\n",
        "}\n",
        "\n",
        "with open('/content/mistrallite/added_tokens.json', 'w') as f:\n",
        "    json.dump(tokens_data, f)"
      ],
      "metadata": {
        "id": "bbDDRd19IPDM"
      },
      "execution_count": null,
      "outputs": []
    },
    {
      "cell_type": "code",
      "execution_count": null,
      "metadata": {
        "id": "W3G4GjXpRtO0"
      },
      "outputs": [],
      "source": [
        "!git clone https://github.com/romlingroup/llama.cpp"
      ]
    },
    {
      "cell_type": "code",
      "source": [
        "%cd llama.cpp"
      ],
      "metadata": {
        "id": "KlANHvmH4nsO"
      },
      "execution_count": null,
      "outputs": []
    },
    {
      "cell_type": "code",
      "source": [
        "!pip install -r requirements.txt"
      ],
      "metadata": {
        "id": "LFfIxSMNOS9c"
      },
      "execution_count": null,
      "outputs": []
    },
    {
      "cell_type": "code",
      "source": [
        "!make quantize"
      ],
      "metadata": {
        "id": "wHeHA-lN4t9O"
      },
      "execution_count": null,
      "outputs": []
    },
    {
      "cell_type": "code",
      "source": [
        "!python convert.py /content/mistrallite \\\n",
        "  --outfile /content/mistrallite.f16.gguf \\\n",
        "  --outtype f16"
      ],
      "metadata": {
        "id": "UXVNW1ZdOcQA"
      },
      "execution_count": null,
      "outputs": []
    },
    {
      "cell_type": "markdown",
      "source": [
        "* q2_K\n",
        "* q3_K\n",
        "* q3_K_S\n",
        "* q3_K_M\n",
        "* q3_K_L\n",
        "* q4_0\n",
        "* q4_1\n",
        "* q4_K\n",
        "* q4_K_S\n",
        "* q4_K_M\n",
        "* q5_0\n",
        "* q5_1\n",
        "* q5_K\n",
        "* q5_K_S\n",
        "* q5_K_M\n",
        "* q6_K\n",
        "* q8_0"
      ],
      "metadata": {
        "id": "k8eYzAPX4Ey8"
      }
    },
    {
      "cell_type": "code",
      "source": [
        "!/content/llama.cpp/quantize /content/mistrallite.f16.gguf /content/mistrallite.q2_k.gguf q2_K\n",
        "!/content/llama.cpp/quantize /content/mistrallite.f16.gguf /content/mistrallite.q4_k_m.gguf q4_K_M\n",
        "!/content/llama.cpp/quantize /content/mistrallite.f16.gguf /content/mistrallite.q8_0.gguf q8_0"
      ],
      "metadata": {
        "id": "6-d66ZMKA_DW"
      },
      "execution_count": null,
      "outputs": []
    },
    {
      "cell_type": "markdown",
      "source": [
        "## Upload to Hugging Face"
      ],
      "metadata": {
        "id": "Z8Rfypiw66t5"
      }
    },
    {
      "cell_type": "markdown",
      "source": [
        "https://huggingface.co/settings/tokens"
      ],
      "metadata": {
        "id": "PTMWC117TpB8"
      }
    },
    {
      "cell_type": "code",
      "source": [
        "!huggingface-cli login"
      ],
      "metadata": {
        "id": "9Ca7Slh4Qhle"
      },
      "execution_count": null,
      "outputs": []
    },
    {
      "cell_type": "code",
      "source": [
        "%cd /content\n",
        "\n",
        "from huggingface_hub import HfApi\n",
        "api = HfApi()\n",
        "\n",
        "model_id = \"romlingroup/mistrallite-gguf\"\n",
        "api.create_repo(model_id, exist_ok=True, repo_type=\"model\")\n",
        "\n",
        "api.upload_file(\n",
        "    repo_id=model_id,\n",
        "    path_or_fileobj=\"mistrallite.f16.gguf\",\n",
        "    path_in_repo=\"mistrallite.f16.gguf\"\n",
        ")\n",
        "\n",
        "api.upload_file(\n",
        "    repo_id=model_id,\n",
        "    path_or_fileobj=\"mistrallite.q2_k.gguf\",\n",
        "    path_in_repo=\"mistrallite.q2_k.gguf\"\n",
        ")\n",
        "\n",
        "api.upload_file(\n",
        "    repo_id=model_id,\n",
        "    path_or_fileobj=\"mistrallite.q4_k_m.gguf\",\n",
        "    path_in_repo=\"mistrallite.q4_k_m.gguf\"\n",
        ")\n",
        "\n",
        "api.upload_file(\n",
        "    repo_id=model_id,\n",
        "    path_or_fileobj=\"mistrallite.q8_0.gguf\",\n",
        "    path_in_repo=\"mistrallite.q8_0.gguf\"\n",
        ")"
      ],
      "metadata": {
        "id": "NJq0AP7QT2Xi"
      },
      "execution_count": null,
      "outputs": []
    }
  ]
}