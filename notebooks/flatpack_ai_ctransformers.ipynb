{
  "nbformat": 4,
  "nbformat_minor": 0,
  "metadata": {
    "colab": {
      "provenance": [],
      "machine_shape": "hm",
      "gpuType": "T4",
      "authorship_tag": "ABX9TyNaHpu7yWQsrHafm/VTM7VM",
      "include_colab_link": true
    },
    "kernelspec": {
      "name": "python3",
      "display_name": "Python 3"
    },
    "language_info": {
      "name": "python"
    },
    "accelerator": "GPU"
  },
  "cells": [
    {
      "cell_type": "markdown",
      "metadata": {
        "id": "view-in-github",
        "colab_type": "text"
      },
      "source": [
        "<a href=\"https://colab.research.google.com/github/romlingroup/flatpack-ai/blob/main/notebooks/flatpack_ai_ctransformers.ipynb\" target=\"_parent\"><img src=\"https://colab.research.google.com/assets/colab-badge.svg\" alt=\"Open In Colab\"/></a>"
      ]
    },
    {
      "cell_type": "markdown",
      "source": [
        "# flatpack.ai - CTransformers\n",
        "https://github.com/marella/ctransformers"
      ],
      "metadata": {
        "id": "Tbpr4ObxWKIq"
      }
    },
    {
      "cell_type": "code",
      "execution_count": null,
      "metadata": {
        "id": "IzSBNoStWHJr"
      },
      "outputs": [],
      "source": [
        "!pip install ctransformers"
      ]
    },
    {
      "cell_type": "code",
      "source": [
        "!wget https://huggingface.co/romlingroup/Mistral-7B-Instruct-v0.1.gguf/resolve/main/Mistral-7B-Instruct-v0.1.gguf"
      ],
      "metadata": {
        "id": "Ir8VEM8KWks1"
      },
      "execution_count": null,
      "outputs": []
    },
    {
      "cell_type": "code",
      "source": [
        "from ctransformers import AutoModelForCausalLM, AutoConfig, Config\n",
        "config = AutoConfig(Config(temperature = 0.7, repetition_penalty = 1.1, max_new_tokens = 1024, batch_size = 16))\n",
        "model = AutoModelForCausalLM.from_pretrained(\"/content/Mistral-7B-Instruct-v0.1.gguf\", model_type=\"mistral\", config = config)"
      ],
      "metadata": {
        "id": "-6SHg7U5WqKN"
      },
      "execution_count": null,
      "outputs": []
    },
    {
      "cell_type": "code",
      "source": [
        "prompt = \"Artificial intelligence will\"\n",
        "template = f'''<[INST] {prompt} [/INST]'''\n",
        "print(model(template))"
      ],
      "metadata": {
        "id": "nxYlB55mW5dP"
      },
      "execution_count": null,
      "outputs": []
    }
  ]
}