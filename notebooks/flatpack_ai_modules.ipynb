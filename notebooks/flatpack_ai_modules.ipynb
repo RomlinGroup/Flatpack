{
  "cells": [
    {
      "cell_type": "markdown",
      "metadata": {
        "id": "view-in-github",
        "colab_type": "text"
      },
      "source": [
        "<a href=\"https://colab.research.google.com/github/romlingroup/flatpack-ai/blob/main/notebooks/flatpack_ai_modules.ipynb\" target=\"_parent\"><img src=\"https://colab.research.google.com/assets/colab-badge.svg\" alt=\"Open In Colab\"/></a>"
      ]
    },
    {
      "cell_type": "markdown",
      "source": [
        "# flatpack.ai - Modules\n",
        "\n",
        "https://github.com/romlingroup/flatpack-ai"
      ],
      "metadata": {
        "id": "g3x8ittAimlh"
      }
    },
    {
      "cell_type": "code",
      "execution_count": null,
      "metadata": {
        "id": "b4X8HdQdeAOg"
      },
      "outputs": [],
      "source": [
        "!pip uninstall flatpack -y\n",
        "!pip install flatpack"
      ]
    },
    {
      "cell_type": "code",
      "source": [
        "# RNN - Train model\n",
        "from flatpack import datasets, instructions, models, utils\n",
        "\n",
        "text_url = \"https://raw.githubusercontent.com/karpathy/char-rnn/master/data/tinyshakespeare/input.txt\"\n",
        "indexed_text, char_to_index, index_to_char = datasets.download_and_preprocess_text(text_url, limit=10000)\n",
        "\n",
        "device = utils.configure_device()\n",
        "instructions.build(\n",
        "    framework='pytorch',\n",
        "    model_type='rnn',\n",
        "    epochs=100,\n",
        "    batch_size=256,\n",
        "    char_to_index=char_to_index,\n",
        "    index_to_char=index_to_char,\n",
        "    save_dir='/content/saved_model',\n",
        "    device=device,\n",
        "    user_train_function=lambda epochs, batch_size: models.RNN.train_model(\n",
        "        indexed_text=indexed_text,\n",
        "        vocab_size=len(char_to_index),\n",
        "        seq_length=64,\n",
        "        embed_size=256,\n",
        "        hidden_size=128,\n",
        "        num_layers=4,\n",
        "        epochs=epochs,\n",
        "        batch_size=batch_size,\n",
        "        device=device,\n",
        "    )\n",
        ")"
      ],
      "metadata": {
        "id": "3ZE4Q9YKSHmn"
      },
      "execution_count": null,
      "outputs": []
    },
    {
      "cell_type": "code",
      "source": [
        "# LSTM - Train model\n",
        "from flatpack import datasets, instructions, models, utils\n",
        "\n",
        "text_url = \"https://raw.githubusercontent.com/karpathy/char-rnn/master/data/tinyshakespeare/input.txt\"\n",
        "indexed_text, char_to_index, index_to_char = datasets.download_and_preprocess_text(text_url, limit=10000)\n",
        "\n",
        "device = utils.configure_device()\n",
        "instructions.build(\n",
        "    framework='pytorch',\n",
        "    model_type='lstm',\n",
        "    epochs=100,\n",
        "    batch_size=256,\n",
        "    char_to_index=char_to_index,\n",
        "    index_to_char=index_to_char,\n",
        "    save_dir='/content/saved_model',\n",
        "    device=device,\n",
        "    user_train_function=lambda epochs, batch_size: models.LSTM.train_model(\n",
        "        indexed_text=indexed_text,\n",
        "        vocab_size=len(char_to_index),\n",
        "        seq_length=64,\n",
        "        embed_size=256,\n",
        "        hidden_size=128,\n",
        "        num_layers=4,\n",
        "        epochs=epochs,\n",
        "        batch_size=batch_size,\n",
        "        device=device,\n",
        "    )\n",
        ")"
      ],
      "metadata": {
        "id": "n_IU3EF0gZDL"
      },
      "execution_count": null,
      "outputs": []
    },
    {
      "cell_type": "code",
      "source": [
        "# Transformer - Train model\n",
        "from flatpack import datasets, instructions, models, utils\n",
        "\n",
        "text_url = \"https://raw.githubusercontent.com/karpathy/char-rnn/master/data/tinyshakespeare/input.txt\"\n",
        "indexed_text, char_to_index, index_to_char = datasets.download_and_preprocess_text(text_url, limit=10000)\n",
        "\n",
        "device = utils.configure_device()\n",
        "instructions.build(\n",
        "    framework='pytorch',\n",
        "    model_type='transformer',\n",
        "    epochs=100,\n",
        "    batch_size=256,\n",
        "    char_to_index=char_to_index,\n",
        "    index_to_char=index_to_char,\n",
        "    save_dir='/content/saved_model',\n",
        "    device=device,\n",
        "    user_train_function=lambda epochs, batch_size: models.Transformer.train_model(\n",
        "        indexed_text=indexed_text,\n",
        "        vocab_size=len(char_to_index),\n",
        "        seq_length=64,\n",
        "        d_model=256,\n",
        "        nhead=8,\n",
        "        num_encoder_layers=4,\n",
        "        num_decoder_layers=4,\n",
        "        epochs=epochs,\n",
        "        batch_size=batch_size,\n",
        "        device=device,\n",
        "    )\n",
        ")"
      ],
      "metadata": {
        "id": "lCmQ3I9OumbK"
      },
      "execution_count": null,
      "outputs": []
    }
  ],
  "metadata": {
    "accelerator": "GPU",
    "colab": {
      "machine_shape": "hm",
      "provenance": [],
      "gpuType": "T4",
      "include_colab_link": true
    },
    "kernelspec": {
      "display_name": "Python 3",
      "name": "python3"
    },
    "language_info": {
      "name": "python"
    }
  },
  "nbformat": 4,
  "nbformat_minor": 0
}