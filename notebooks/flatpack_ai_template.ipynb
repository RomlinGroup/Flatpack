{
  "nbformat": 4,
  "nbformat_minor": 0,
  "metadata": {
    "colab": {
      "provenance": [],
      "gpuType": "T4",
      "include_colab_link": true
    },
    "kernelspec": {
      "name": "python3",
      "display_name": "Python 3"
    },
    "language_info": {
      "name": "python"
    },
    "accelerator": "GPU"
  },
  "cells": [
    {
      "cell_type": "markdown",
      "metadata": {
        "id": "view-in-github",
        "colab_type": "text"
      },
      "source": [
        "<a href=\"https://colab.research.google.com/github/romlingroup/flatpack-ai/blob/main/notebooks/flatpack_ai_template.ipynb\" target=\"_parent\"><img src=\"https://colab.research.google.com/assets/colab-badge.svg\" alt=\"Open In Colab\"/></a>"
      ]
    },
    {
      "cell_type": "markdown",
      "source": [
        "# flatpack.ai - Template"
      ],
      "metadata": {
        "id": "kWvElY0g-HAm"
      }
    },
    {
      "cell_type": "code",
      "source": [
        "!pip install --upgrade flatpack"
      ],
      "metadata": {
        "id": "RsNBgg0W-WOp"
      },
      "execution_count": null,
      "outputs": []
    },
    {
      "cell_type": "markdown",
      "source": [
        "Get your API key at https://fpk.ai/build/account.php"
      ],
      "metadata": {
        "id": "kIVaD6T_HMNb"
      }
    },
    {
      "cell_type": "code",
      "source": [
        "!flatpack set-api-key \"YOUR_API_KEY\""
      ],
      "metadata": {
        "id": "v0nMZkP6GtUJ"
      },
      "execution_count": null,
      "outputs": []
    },
    {
      "cell_type": "code",
      "source": [
        "!flatpack list"
      ],
      "metadata": {
        "id": "xE6nQ8AOG5LD"
      },
      "execution_count": null,
      "outputs": []
    },
    {
      "cell_type": "code",
      "source": [
        "!flatpack install gpt2-knowledge-distillation"
      ],
      "metadata": {
        "id": "5cHOfEpbImRM"
      },
      "execution_count": null,
      "outputs": []
    },
    {
      "cell_type": "code",
      "source": [
        "!flatpack train"
      ],
      "metadata": {
        "id": "M9IyyfO3Kt8R"
      },
      "execution_count": null,
      "outputs": []
    }
  ]
}