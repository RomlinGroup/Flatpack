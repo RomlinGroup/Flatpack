{
  "nbformat": 4,
  "nbformat_minor": 0,
  "metadata": {
    "colab": {
      "provenance": [],
      "gpuType": "T4",
      "include_colab_link": true
    },
    "kernelspec": {
      "name": "python3",
      "display_name": "Python 3"
    },
    "language_info": {
      "name": "python"
    },
    "accelerator": "GPU"
  },
  "cells": [
    {
      "cell_type": "markdown",
      "metadata": {
        "id": "view-in-github",
        "colab_type": "text"
      },
      "source": [
        "<a href=\"https://colab.research.google.com/github/romlingroup/fpk-ai-web/blob/main/notebooks/flatpack_ai_template.ipynb\" target=\"_parent\"><img src=\"https://colab.research.google.com/assets/colab-badge.svg\" alt=\"Open In Colab\"/></a>"
      ]
    },
    {
      "cell_type": "markdown",
      "source": [
        "# flatpack.ai - Template"
      ],
      "metadata": {
        "id": "kWvElY0g-HAm"
      }
    },
    {
      "cell_type": "code",
      "source": [
        "!pip install flatpack"
      ],
      "metadata": {
        "id": "RsNBgg0W-WOp"
      },
      "execution_count": null,
      "outputs": []
    }
  ]
}