{
 "cells": [
  {
   "cell_type": "markdown",
   "metadata": {
    "id": "view-in-github",
    "colab_type": "text"
   },
   "source": [
    "<a href=\"https://colab.research.google.com/github/romlingroup/flatpack/blob/main/notebooks/flatpack_playground.ipynb\" target=\"_parent\"><img src=\"https://colab.research.google.com/assets/colab-badge.svg\" alt=\"Open In Colab\"/></a>"
   ]
  },
  {
   "cell_type": "markdown",
   "source": [
    "# Flatpack - Playground"
   ],
   "metadata": {
    "id": "g3x8ittAimlh"
   }
  },
  {
   "cell_type": "markdown",
   "source": [
    "## Install the latest version"
   ],
   "metadata": {
    "id": "lGpaJSAGOckn"
   }
  },
  {
   "cell_type": "code",
   "source": [
    "# Patch for Colab\n",
    "!pip install --q lida==0.0.14 tensorflow-probability==0.24.0"
   ],
   "metadata": {
    "id": "NXIcHt8EYWaJ"
   },
   "execution_count": null,
   "outputs": []
  },
  {
   "cell_type": "code",
   "execution_count": null,
   "metadata": {
    "id": "b4X8HdQdeAOg"
   },
   "outputs": [],
   "source": [
    "# Install from PyPI (recommended)\n",
    "!pip install flatpack==3.3.2"
   ]
  },
  {
   "cell_type": "code",
   "source": [
    "# Install from source (optional)\n",
    "!git clone https://github.com/romlingroup/flatpack.git\n",
    "%cd flatpack-ai/package/flatpack\n",
    "!pip install --upgrade .\n",
    "%cd /content"
   ],
   "metadata": {
    "id": "NdKJT-3pYzkK"
   },
   "execution_count": null,
   "outputs": []
  },
  {
   "cell_type": "markdown",
   "source": [
    "cuDNN, cuFFT, and cuBLAS Errors #62075\n",
    "\n",
    "https://github.com/tensorflow/tensorflow/issues/62075"
   ],
   "metadata": {
    "id": "OVUQmF9hG7yX"
   }
  },
  {
   "cell_type": "markdown",
   "source": [
    "## Flatpacks (FPK)"
   ],
   "metadata": {
    "id": "y7sGzH8YMuh2"
   }
  },
  {
   "cell_type": "markdown",
   "source": [
    "### FPK - List available flatpacks"
   ],
   "metadata": {
    "id": "DdmIhuxjOEXh"
   }
  },
  {
   "cell_type": "code",
   "source": [
    "!flatpack list"
   ],
   "metadata": {
    "id": "6Ctq465UMlQ5"
   },
   "execution_count": null,
   "outputs": []
  },
  {
   "cell_type": "markdown",
   "source": [
    "### FPK - Install a flatpack"
   ],
   "metadata": {
    "id": "1kjjg1CnRL7M"
   }
  },
  {
   "cell_type": "code",
   "source": [
    "!flatpack unbox moondream --verbose"
   ],
   "metadata": {
    "id": "hPAGGn8XRWGJ"
   },
   "execution_count": null,
   "outputs": []
  },
  {
   "cell_type": "markdown",
   "source": [
    "### FPK - build.sh\n",
    "Train using cached flatpack or a specified directory.\n",
    "\n",
    "`!flatpack build`\n",
    "\n",
    "`!flatpack build moondream`"
   ],
   "metadata": {
    "id": "gD1Twp4iT01Z"
   }
  },
  {
   "cell_type": "code",
   "source": [
    "#import os\n",
    "#os.environ[\"FPK_ENCRYPTION_KEY\"] = \"YOUR_ENCRYPTION_KEY\""
   ],
   "metadata": {
    "id": "yF8o7LWBQT5z"
   },
   "execution_count": null,
   "outputs": []
  },
  {
   "cell_type": "code",
   "source": [
    "#!flatpack set-api-key \"YOUR_API_KEY\"\n",
    "!flatpack build"
   ],
   "metadata": {
    "id": "v6FY-HzJptNG"
   },
   "execution_count": null,
   "outputs": []
  },
  {
   "cell_type": "markdown",
   "source": [
    "### FPK - Find models\n",
    "This function searches the current directory and subdirectories for popular machine-learning model file formats.\n",
    "\n",
    "`['.caffemodel', '.ckpt', '.gguf', '.h5', '.json', '.mar', '.mlmodel', '.model', '.onnx', '.params', '.pb', '.pkl', '.pickle', '.pt', '.pth', '.sav', '.tflite', '.weights']`"
   ],
   "metadata": {
    "id": "xb_Xp5d3LW6B"
   }
  },
  {
   "cell_type": "code",
   "source": [
    "!flatpack find"
   ],
   "metadata": {
    "id": "tAJrbCMjKR6p"
   },
   "execution_count": null,
   "outputs": []
  },
  {
   "cell_type": "markdown",
   "source": [
    "### FPK - Run"
   ],
   "metadata": {
    "id": "rGB3grsFeB_b"
   }
  },
  {
   "cell_type": "code",
   "source": [
    "import os\n",
    "import getpass\n",
    "\n",
    "# Request ngrok authtoken interactively for security\n",
    "# https://dashboard.ngrok.com/get-started/your-authtoken\n",
    "ngrok_authtoken = getpass.getpass('Enter your ngrok authtoken: ')\n",
    "os.environ['NGROK_AUTHTOKEN'] = ngrok_authtoken\n",
    "\n",
    "!flatpack run"
   ],
   "metadata": {
    "id": "CAcF_7K4emB8"
   },
   "execution_count": null,
   "outputs": []
  },
  {
   "cell_type": "markdown",
   "source": [
    "## Modules (for educational purposes)"
   ],
   "metadata": {
    "id": "ahimRcTFMre8"
   }
  },
  {
   "cell_type": "markdown",
   "source": [
    "### Recurrent Neural Network (RNN)"
   ],
   "metadata": {
    "id": "-Tqp6YTTNnY8"
   }
  },
  {
   "cell_type": "markdown",
   "source": [
    "#### RNN - Train model"
   ],
   "metadata": {
    "id": "7_XHYq5sOM47"
   }
  },
  {
   "cell_type": "code",
   "source": [
    "# RNN - Train model\n",
    "from flatpack import datasets, instructions, models, utils\n",
    "\n",
    "text_url = \"https://raw.githubusercontent.com/karpathy/char-rnn/master/data/tinyshakespeare/input.txt\"\n",
    "indexed_text, char_to_index, index_to_char = datasets.download_and_preprocess_text(text_url, limit=10000)\n",
    "\n",
    "device = utils.configure_device()\n",
    "instructions.build(\n",
    "    framework='pytorch',\n",
    "    model_type='rnn',\n",
    "    epochs=100,\n",
    "    batch_size=256,\n",
    "    char_to_index=char_to_index,\n",
    "    index_to_char=index_to_char,\n",
    "    save_dir='/content/saved_model/rnn',\n",
    "    device=device,\n",
    "    user_train_function=lambda epochs, batch_size: models.RNN.train_model(\n",
    "        indexed_text=indexed_text,\n",
    "        vocab_size=len(char_to_index),\n",
    "        seq_length=64,\n",
    "        embed_size=256,\n",
    "        hidden_size=128,\n",
    "        num_layers=4,\n",
    "        epochs=epochs,\n",
    "        batch_size=batch_size,\n",
    "        device=device,\n",
    "    )\n",
    ")"
   ],
   "metadata": {
    "id": "3ZE4Q9YKSHmn"
   },
   "execution_count": null,
   "outputs": []
  },
  {
   "cell_type": "markdown",
   "source": [
    "#### RNN - Generate text"
   ],
   "metadata": {
    "id": "8WFE0b8ROO9x"
   }
  },
  {
   "cell_type": "code",
   "source": [
    "# RNN - Generate text\n",
    "from flatpack import models, utils\n",
    "\n",
    "SAVE_DIR = '/content/saved_model/rnn'\n",
    "MODEL_PATH = f'{SAVE_DIR}/rnn_model.pth'\n",
    "EMBED_SIZE = 256\n",
    "HIDDEN_SIZE = 128\n",
    "NUM_LAYERS = 4\n",
    "GENERATE_LENGTH = 512\n",
    "TEMPERATURE = 1\n",
    "\n",
    "utils.seed_random(42)\n",
    "device = utils.configure_device()\n",
    "\n",
    "model = models.RNN(EMBED_SIZE, HIDDEN_SIZE, NUM_LAYERS).to(device)\n",
    "model.load_vocab_size(SAVE_DIR)\n",
    "model.load_state_dict(models.RNN.load_torch_model(MODEL_PATH))\n",
    "model.embedding = model.embedding.to(device)\n",
    "model.rnn = model.rnn.to(device)\n",
    "model.fc = model.fc.to(device)\n",
    "\n",
    "generated_text = model.generate_text(SAVE_DIR, start_sequence=\"To be, or not to be\", generate_length=GENERATE_LENGTH, temperature=TEMPERATURE, device=device)\n",
    "print(\"Generated text:\", generated_text)"
   ],
   "metadata": {
    "id": "H1kvzt3kuc_1"
   },
   "execution_count": null,
   "outputs": []
  },
  {
   "cell_type": "markdown",
   "source": [
    "### Long Short Term Memory (LSTM)"
   ],
   "metadata": {
    "id": "wPNlL5eFNxiK"
   }
  },
  {
   "cell_type": "markdown",
   "source": [
    "#### LSTM - Train model"
   ],
   "metadata": {
    "id": "2_ghlE17N--Z"
   }
  },
  {
   "cell_type": "code",
   "source": [
    "# LSTM - Train model\n",
    "from flatpack import datasets, instructions, models, utils\n",
    "\n",
    "text_url = \"https://raw.githubusercontent.com/karpathy/char-rnn/master/data/tinyshakespeare/input.txt\"\n",
    "indexed_text, char_to_index, index_to_char = datasets.download_and_preprocess_text(text_url, limit=10000)\n",
    "\n",
    "device = utils.configure_device()\n",
    "instructions.build(\n",
    "    framework='pytorch',\n",
    "    model_type='lstm',\n",
    "    epochs=100,\n",
    "    batch_size=256,\n",
    "    char_to_index=char_to_index,\n",
    "    index_to_char=index_to_char,\n",
    "    save_dir='/content/saved_model/lstm',\n",
    "    device=device,\n",
    "    user_train_function=lambda epochs, batch_size: models.LSTM.train_model(\n",
    "        indexed_text=indexed_text,\n",
    "        vocab_size=len(char_to_index),\n",
    "        seq_length=64,\n",
    "        embed_size=256,\n",
    "        hidden_size=128,\n",
    "        num_layers=4,\n",
    "        epochs=epochs,\n",
    "        batch_size=batch_size,\n",
    "        device=device,\n",
    "    )\n",
    ")"
   ],
   "metadata": {
    "id": "n_IU3EF0gZDL"
   },
   "execution_count": null,
   "outputs": []
  },
  {
   "cell_type": "markdown",
   "source": [
    "#### LSTM - Generate text"
   ],
   "metadata": {
    "id": "OF7cXN9aOKhF"
   }
  },
  {
   "cell_type": "code",
   "source": [
    "# LSTM - Generate text\n",
    "from flatpack import models, utils\n",
    "\n",
    "SAVE_DIR = '/content/saved_model/lstm'\n",
    "MODEL_PATH = f'{SAVE_DIR}/lstm_model.pth'\n",
    "EMBED_SIZE = 256\n",
    "HIDDEN_SIZE = 128\n",
    "NUM_LAYERS = 4\n",
    "GENERATE_LENGTH = 512\n",
    "TEMPERATURE = 1\n",
    "\n",
    "utils.seed_random(42)\n",
    "device = utils.configure_device()\n",
    "\n",
    "model = models.LSTM(EMBED_SIZE, HIDDEN_SIZE, NUM_LAYERS).to(device)\n",
    "model.load_vocab_size(SAVE_DIR)\n",
    "model.load_state_dict(models.LSTM.load_torch_model(MODEL_PATH))\n",
    "model.embedding = model.embedding.to(device)\n",
    "model.lstm = model.lstm.to(device)\n",
    "model.fc = model.fc.to(device)\n",
    "\n",
    "generated_text = model.generate_text(SAVE_DIR, start_sequence=\"To be, or not to be\", generate_length=GENERATE_LENGTH, temperature=TEMPERATURE, device=device)\n",
    "print(\"Generated text:\", generated_text)"
   ],
   "metadata": {
    "id": "a29wWRi3iwTu"
   },
   "execution_count": null,
   "outputs": []
  }
 ],
 "metadata": {
  "colab": {
   "provenance": [],
   "gpuType": "T4",
   "machine_shape": "hm",
   "include_colab_link": true
  },
  "kernelspec": {
   "display_name": "Python 3",
   "name": "python3"
  },
  "language_info": {
   "name": "python"
  },
  "accelerator": "GPU"
 },
 "nbformat": 4,
 "nbformat_minor": 0
}
