{
  "nbformat": 4,
  "nbformat_minor": 0,
  "metadata": {
    "colab": {
      "provenance": [],
      "machine_shape": "hm",
      "gpuType": "T4",
      "authorship_tag": "ABX9TyOstrVmHxpjYK7l+agCojIz",
      "include_colab_link": true
    },
    "kernelspec": {
      "name": "python3",
      "display_name": "Python 3"
    },
    "language_info": {
      "name": "python"
    },
    "accelerator": "GPU"
  },
  "cells": [
    {
      "cell_type": "markdown",
      "metadata": {
        "id": "view-in-github",
        "colab_type": "text"
      },
      "source": [
        "<a href=\"https://colab.research.google.com/github/romlingroup/flatpack-ai/blob/main/notebooks/flatpack_ai_conv_ai.ipynb\" target=\"_parent\"><img src=\"https://colab.research.google.com/assets/colab-badge.svg\" alt=\"Open In Colab\"/></a>"
      ]
    },
    {
      "cell_type": "markdown",
      "source": [
        "# flatpack.ai - Conversational AI with Transfer Learning\n",
        "https://github.com/M4iKZ/transfer-learning-conv-ai-rocm"
      ],
      "metadata": {
        "id": "d_iElHiRl-F9"
      }
    },
    {
      "cell_type": "code",
      "execution_count": null,
      "metadata": {
        "id": "ti9REda_l7lG"
      },
      "outputs": [],
      "source": [
        "!git clone https://github.com/M4iKZ/transfer-learning-conv-ai-rocm\n",
        "%cd transfer-learning-conv-ai-rocm"
      ]
    },
    {
      "cell_type": "code",
      "source": [
        "!pip install --pre torch --index-url https://download.pytorch.org/whl/nightly/rocm5.3\n",
        "!pip install --pre pytorch-ignite\n",
        "!pip install transformers"
      ],
      "metadata": {
        "id": "tV7I_0Rqmm9Z"
      },
      "execution_count": null,
      "outputs": []
    },
    {
      "cell_type": "code",
      "source": [
        "!python trainchat.py --n_epochs 3"
      ],
      "metadata": {
        "id": "EL38yS8smxNn"
      },
      "execution_count": null,
      "outputs": []
    },
    {
      "cell_type": "code",
      "source": [
        "from google.colab import drive\n",
        "drive.mount('/content/drive')"
      ],
      "metadata": {
        "id": "vM9L5gOwA0HD"
      },
      "execution_count": null,
      "outputs": []
    },
    {
      "cell_type": "code",
      "source": [
        "!cp /content/transfer-learning-conv-ai-rocm/personachat_self_original /content/drive/MyDrive/flatpack_ai_conv_ai/personachat_self_original\n",
        "!cp /content/transfer-learning-conv-ai-rocm/personachat_self_original_GPT2Tokenizer /content/drive/MyDrive/flatpack_ai_conv_ai/personachat_self_original_GPT2Tokenizer"
      ],
      "metadata": {
        "id": "htJ-b4DvBHy_"
      },
      "execution_count": null,
      "outputs": []
    }
  ]
}