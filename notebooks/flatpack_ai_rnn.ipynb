{
  "cells": [
    {
      "cell_type": "markdown",
      "metadata": {
        "id": "view-in-github",
        "colab_type": "text"
      },
      "source": [
        "<a href=\"https://colab.research.google.com/github/romlingroup/flatpack-ai/blob/main/notebooks/flatpack_ai_rnn.ipynb\" target=\"_parent\"><img src=\"https://colab.research.google.com/assets/colab-badge.svg\" alt=\"Open In Colab\"/></a>"
      ]
    },
    {
      "cell_type": "markdown",
      "source": [
        "# flatpack.ai - RNN\n",
        "This Colab notebook demonstrates how to train a Recurrent Neural Network (RNN) on a text dataset and then use the trained model to generate new text sequences. The model is trained character by character, learning the patterns and structure of the input text, and can then generate coherent and contextually relevant text sequences.\n",
        "\n",
        "https://github.com/romlingroup/flatpack-ai"
      ],
      "metadata": {
        "id": "g3x8ittAimlh"
      }
    },
    {
      "cell_type": "code",
      "execution_count": null,
      "metadata": {
        "id": "b4X8HdQdeAOg"
      },
      "outputs": [],
      "source": [
        "!pip uninstall flatpack -y\n",
        "!pip install flatpack"
      ]
    },
    {
      "cell_type": "code",
      "source": [
        "from flatpack import datasets, instructions, models, utils\n",
        "\n",
        "text_url = \"https://raw.githubusercontent.com/karpathy/char-rnn/master/data/tinyshakespeare/input.txt\"\n",
        "indexed_text, char_to_index, index_to_char = datasets.download_and_preprocess_text(text_url, limit=10000)\n",
        "\n",
        "device = utils.configure_device()\n",
        "instructions.build(\n",
        "    framework='pytorch',\n",
        "    model_type='rnn',\n",
        "    epochs=100,\n",
        "    batch_size=2048,\n",
        "    char_to_index=char_to_index,\n",
        "    index_to_char=index_to_char,\n",
        "    save_dir='/content/saved_model',\n",
        "    device=device,\n",
        "    user_train_function=lambda epochs, batch_size: models.RNN.train_model(\n",
        "        indexed_text=indexed_text,\n",
        "        vocab_size=len(char_to_index),\n",
        "        seq_length=64,\n",
        "        embed_size=256,\n",
        "        hidden_size=128,\n",
        "        num_layers=4,\n",
        "        epochs=epochs,\n",
        "        batch_size=batch_size,\n",
        "        device=device,\n",
        "    )\n",
        ")"
      ],
      "metadata": {
        "id": "3ZE4Q9YKSHmn"
      },
      "execution_count": null,
      "outputs": []
    },
    {
      "cell_type": "code",
      "source": [
        "import random\n",
        "from flatpack import models, utils\n",
        "\n",
        "SAVE_DIR = '/content/saved_model'\n",
        "MODEL_PATH = f'{SAVE_DIR}/rnn_model.pth'\n",
        "EMBED_SIZE = 256\n",
        "HIDDEN_SIZE = 128\n",
        "NUM_LAYERS = 4\n",
        "GENERATE_LENGTH = 512\n",
        "TEMPERATURE = 1\n",
        "\n",
        "random.seed(42)\n",
        "\n",
        "device = utils.configure_device()\n",
        "\n",
        "model = models.RNN(EMBED_SIZE, HIDDEN_SIZE, NUM_LAYERS).to(device)\n",
        "model.load_vocab_size(SAVE_DIR)\n",
        "model.load_state_dict(models.RNN.load_torch_model(MODEL_PATH))\n",
        "model.embedding = model.embedding.to(device)\n",
        "model.rnn = model.rnn.to(device)\n",
        "model.fc = model.fc.to(device)\n",
        "\n",
        "generated_text = model.generate_text(SAVE_DIR, start_sequence=\"To be, or not to be\", generate_length=GENERATE_LENGTH, temperature=TEMPERATURE, device=device)\n",
        "\n",
        "print(\"Generated text:\", generated_text)"
      ],
      "metadata": {
        "id": "H1kvzt3kuc_1"
      },
      "execution_count": null,
      "outputs": []
    }
  ],
  "metadata": {
    "accelerator": "GPU",
    "colab": {
      "machine_shape": "hm",
      "provenance": [],
      "include_colab_link": true
    },
    "kernelspec": {
      "display_name": "Python 3",
      "name": "python3"
    },
    "language_info": {
      "name": "python"
    }
  },
  "nbformat": 4,
  "nbformat_minor": 0
}