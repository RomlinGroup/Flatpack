{
  "nbformat": 4,
  "nbformat_minor": 0,
  "metadata": {
    "colab": {
      "provenance": [],
      "machine_shape": "hm",
      "gpuType": "T4",
      "authorship_tag": "ABX9TyNnBI4OtcWvPDvsuVl1dONh",
      "include_colab_link": true
    },
    "kernelspec": {
      "name": "python3",
      "display_name": "Python 3"
    },
    "language_info": {
      "name": "python"
    },
    "accelerator": "GPU"
  },
  "cells": [
    {
      "cell_type": "markdown",
      "metadata": {
        "id": "view-in-github",
        "colab_type": "text"
      },
      "source": [
        "<a href=\"https://colab.research.google.com/github/romlingroup/flatpack-ai/blob/main/notebooks/flatpack_ai_tinyllama.ipynb\" target=\"_parent\"><img src=\"https://colab.research.google.com/assets/colab-badge.svg\" alt=\"Open In Colab\"/></a>"
      ]
    },
    {
      "cell_type": "markdown",
      "source": [
        "# flatpack.ai - TinyLlama\n",
        "https://github.com/jzhang38/TinyLlama"
      ],
      "metadata": {
        "id": "K8H476it0KuH"
      }
    },
    {
      "cell_type": "code",
      "execution_count": null,
      "metadata": {
        "id": "Pm29Gw2Q0EPs"
      },
      "outputs": [],
      "source": [
        "!git clone https://github.com/jzhang38/TinyLlama\n",
        "%cd TinyLlama"
      ]
    },
    {
      "cell_type": "code",
      "source": [
        "!pip install flash-attn ninja sentencepiece tokenizers xformers\n",
        "!pip install --no-build-isolation flash-attn\n",
        "!pip install -r requirements.txt"
      ],
      "metadata": {
        "id": "uDQY1_nI1lKw"
      },
      "execution_count": null,
      "outputs": []
    }
  ]
}